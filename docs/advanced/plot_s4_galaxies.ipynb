{
  "cells": [
    {
      "cell_type": "code",
      "execution_count": null,
      "metadata": {
        "collapsed": false
      },
      "outputs": [],
      "source": [
        "%matplotlib inline"
      ]
    },
    {
      "cell_type": "markdown",
      "metadata": {},
      "source": [
        "\n# Stage IV Galaxy Survey\n\nThis example simulates a galaxy catalogue from a Stage IV Space Satellite Galaxy\nSurvey such as *Euclid* and *Roman* combining the :doc:`/basic/plot_density` and\n:doc:`/basic/plot_lensing` examples with galaxy ellipticities and galaxy shears,\nas well as using some auxiliary functions.\n\nThe focus in this example is mock catalogue generation using auxiliary functions\nbuilt for simulating Stage IV galaxy surveys.\n"
      ]
    },
    {
      "cell_type": "markdown",
      "metadata": {},
      "source": [
        "## Setup\nThe setup is essentially the same as in the :doc:`/advanced/plot_shears`\nexample.\n\nIn addition to a generator for intrinsic galaxy ellipticities,\nfollowing a normal distribution, we also show how to use auxiliary functions\nto generate tomographic redshift distributions and visibility masks.\n\nFinally, there is a generator that applies the reduced shear from the lensing\nmaps to the intrinsic ellipticities, producing the galaxy shears.\n\n"
      ]
    },
    {
      "cell_type": "code",
      "execution_count": null,
      "metadata": {
        "collapsed": false
      },
      "outputs": [],
      "source": [
        "import numpy as np\nimport healpy as hp\nimport matplotlib.pyplot as plt\n\n# use the CAMB cosmology that generated the matter power spectra\nimport camb\nfrom cosmology import Cosmology\n\n# GLASS modules: cosmology and everything in the glass namespace\nimport glass.fields\nimport glass.points\nimport glass.shapes\nimport glass.matter\nimport glass.lensing\nimport glass.galaxies\nimport glass.observations\n\n\n# cosmology for the simulation\nh = 0.7\nOc = 0.25\nOb = 0.05\n\n# basic parameters of the simulation\nnside = lmax = 256\n\n# set up CAMB parameters for matter angular power spectrum\npars = camb.set_params(H0=100*h, omch2=Oc*h**2, ombh2=Ob*h**2,\n                       NonLinear=camb.model.NonLinear_both)\n\n# get the cosmology from CAMB\ncosmo = Cosmology.from_camb(pars)"
      ]
    },
    {
      "cell_type": "markdown",
      "metadata": {},
      "source": [
        "Set up the matter sector.\n\n"
      ]
    },
    {
      "cell_type": "code",
      "execution_count": null,
      "metadata": {
        "collapsed": false
      },
      "outputs": [],
      "source": [
        "# shells of 200 Mpc in comoving distance spacing\nshells = glass.matter.distance_shells(cosmo, 0., 3., dx=200.)\n\n# uniform matter weight function\n# CAMB requires linear ramp for low redshifts\nweights = glass.matter.uniform_weights(shells, zlin=0.1)\n\n# compute the angular matter power spectra of the shells with CAMB\ncls = glass.camb.matter_cls(pars, lmax, weights)\n\n# compute Gaussian cls for lognormal fields for 3 correlated shells\n# putting nside here means that the HEALPix pixel window function is applied\ngls = glass.fields.lognormal_gls(cls, nside=nside, lmax=lmax, ncorr=3)\n\n# generator for lognormal matter fields\nmatter = glass.fields.generate_lognormal(gls, nside, ncorr=3)"
      ]
    },
    {
      "cell_type": "markdown",
      "metadata": {},
      "source": [
        "Set up the lensing sector.\n\n"
      ]
    },
    {
      "cell_type": "code",
      "execution_count": null,
      "metadata": {
        "collapsed": false
      },
      "outputs": [],
      "source": [
        "# compute the effective redshifts of the matter shells\n# these will be the source redshifts of the lensing planes\nzlens = glass.matter.effective_redshifts(weights)\n\n# compute the multi-plane lensing weights for these redshifts\nwlens = glass.lensing.multi_plane_weights(zlens, weights)\n\n# this will compute the convergence field iteratively\nconvergence = glass.lensing.MultiPlaneConvergence(cosmo)"
      ]
    },
    {
      "cell_type": "markdown",
      "metadata": {},
      "source": [
        "Set up the galaxies sector.\n\n"
      ]
    },
    {
      "cell_type": "code",
      "execution_count": null,
      "metadata": {
        "collapsed": false
      },
      "outputs": [],
      "source": [
        "# galaxy density (using 1/100 of the expected galaxy number density for Stage-IV)\nn_arcmin2 = 0.3\n\n# true redshift distribution following a Smail distribution\nz = np.arange(0., 3., 0.01)\ndndz = glass.observations.smail_nz(z, z_mode=0.9, alpha=2., beta=1.5)\ndndz *= n_arcmin2\n\n# compute the galaxy number density in each shell\nngal = glass.galaxies.density_from_dndz(z, dndz, bins=shells)\n\n# compute bin edges with equal density\nnbins = 10\nzedges = glass.observations.equal_dens_zbins(z, dndz, nbins=nbins)\n\n# photometric redshift error\nsigma_z0 = 0.03\n\n# split distribution by tomographic bin, assuming photometric redshift errors\ntomo_nz = glass.observations.tomo_nz_gausserr(z, dndz, sigma_z0, zedges)\n\n# constant bias parameter for all shells\nbias = 1.2\n\n# ellipticity standard deviation as expected for a Stage-IV survey\nsigma_e = 0.27"
      ]
    },
    {
      "cell_type": "markdown",
      "metadata": {},
      "source": [
        "Plotting the overall redshift distribution and the\ndistribution for each of the equal density tomographic bins\n\n"
      ]
    },
    {
      "cell_type": "code",
      "execution_count": null,
      "metadata": {
        "collapsed": false
      },
      "outputs": [],
      "source": [
        "plt.figure()\nplt.title('redshift distributions')\nsum_nz = np.zeros_like(tomo_nz[0])\nfor nz in tomo_nz:\n    plt.fill_between(z, nz, alpha=0.5)\n    sum_nz = sum_nz + nz\nplt.fill_between(z, dndz, alpha=0.2, label='dn/dz')\nplt.plot(z, sum_nz, ls='--', label='sum of the bins')\nplt.ylabel('dN/dz - gal/arcmin2')\nplt.xlabel('z')\nplt.legend()\nplt.tight_layout()\nplt.show()"
      ]
    },
    {
      "cell_type": "markdown",
      "metadata": {},
      "source": [
        "Make a visibility map typical of a space telescope survey, seeing both\nhemispheres, and low visibility in the galactic and ecliptic bands.\n\n"
      ]
    },
    {
      "cell_type": "code",
      "execution_count": null,
      "metadata": {
        "collapsed": false
      },
      "outputs": [],
      "source": [
        "vis = glass.observations.vmap_galactic_ecliptic(nside)\n\n# checking the mask:\nhp.mollview(vis, title='Stage IV Space Survey-like Mask', unit='Visibility')\nplt.show()"
      ]
    },
    {
      "cell_type": "markdown",
      "metadata": {},
      "source": [
        "## Simulation\nSimulate the galaxies with shears.  In each iteration, get the quantities of\ninterest to build our mock catalogue.\n\n"
      ]
    },
    {
      "cell_type": "code",
      "execution_count": null,
      "metadata": {
        "collapsed": false
      },
      "outputs": [],
      "source": [
        "# we will store the catalogue as a structured numpy array, initially empty\ncatalogue = np.empty(0, dtype=[('RA', float), ('DEC', float), ('TRUE_Z', float),\n                               ('G1', float), ('G2', float), ('TOMO_ID', int)])\n\n# simulate the matter fields in the main loop, and build up the catalogue\nfor i, delta_i in enumerate(matter):\n\n    # boundary redshifts for this shell\n    zmin, zmax = shells[i], shells[i+1]\n\n    # compute the lensing maps for this shell\n    convergence.add_plane(delta_i, zlens[i], wlens[i])\n    kappa_i = convergence.kappa\n    gamm1_i, gamm2_i = glass.lensing.shear_from_convergence(kappa_i)\n\n    # generate galaxy positions from the matter density contrast\n    gal_lon, gal_lat = glass.points.positions_from_delta(ngal[i], delta_i, bias, vis)\n\n    # number of galaxies in this shell\n    gal_siz = len(gal_lon)\n\n    # generate random redshifts from the provided nz\n    gal_z, gal_pop = glass.galaxies.redshifts_from_nz(gal_siz, z, tomo_nz,\n                                                      zmin=zmin, zmax=zmax)\n\n    # generate galaxy ellipticities from the chosen distribution\n    gal_eps = glass.shapes.ellipticity_intnorm(gal_siz, sigma_e)\n\n    # apply the shear fields to the ellipticities\n    gal_she = glass.galaxies.galaxy_shear(gal_lon, gal_lat, gal_eps,\n                                          kappa_i, gamm1_i, gamm2_i)\n\n    # make a mini-catalogue for the new rows\n    rows = np.empty(gal_siz, dtype=catalogue.dtype)\n    rows['RA'] = gal_lon\n    rows['DEC'] = gal_lat\n    rows['TRUE_Z'] = gal_z\n    rows['G1'] = gal_she.real\n    rows['G2'] = gal_she.imag\n    rows['TOMO_ID'] = gal_pop\n\n    # add the new rows to the catalogue\n    catalogue = np.append(catalogue, rows)\n\nprint(f'Total Number of galaxies sampled: {len(catalogue[\"TRUE_Z\"]):,}')"
      ]
    },
    {
      "cell_type": "markdown",
      "metadata": {},
      "source": [
        "## Catalogue checks\nHere we can perform some simple checks at the catalogue level to\nsee how our simulation performed.\n\n"
      ]
    },
    {
      "cell_type": "code",
      "execution_count": null,
      "metadata": {
        "collapsed": false
      },
      "outputs": [],
      "source": [
        "# redshift distribution of tomographic bins & input distributions\nplt.figure()\nplt.title('redshifts in catalogue')\nplt.ylabel('dN/dz - normalised')\nplt.xlabel('z')\nfor i in range(0, 10):\n    plt.hist(catalogue['TRUE_Z'][catalogue['TOMO_ID'] == i], histtype='stepfilled', edgecolor='none', alpha=0.5, bins=50, density=1, label=f'cat. bin {i}')\nfor i in range(0, 10):\n    plt.plot(z, (tomo_nz[i]/n_arcmin2)*nbins, alpha=0.5, label=f'inp. bin {i}')\nplt.plot(z, dndz/n_arcmin2*nbins, ls='--', c='k')\nplt.legend(ncol=2)\nplt.show()"
      ]
    }
  ],
  "metadata": {
    "kernelspec": {
      "display_name": "Python 3",
      "language": "python",
      "name": "python3"
    },
    "language_info": {
      "codemirror_mode": {
        "name": "ipython",
        "version": 3
      },
      "file_extension": ".py",
      "mimetype": "text/x-python",
      "name": "python",
      "nbconvert_exporter": "python",
      "pygments_lexer": "ipython3",
      "version": "3.8.16"
    }
  },
  "nbformat": 4,
  "nbformat_minor": 0
}